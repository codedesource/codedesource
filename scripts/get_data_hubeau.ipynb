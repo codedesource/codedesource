{
 "cells": [
  {
   "cell_type": "code",
   "execution_count": 1,
   "metadata": {},
   "outputs": [],
   "source": [
    "import os\n",
    "import requests\n",
    "import pandas\n",
    "import logging"
   ]
  },
  {
   "cell_type": "code",
   "execution_count": 2,
   "metadata": {},
   "outputs": [],
   "source": [
    "URL_TO_GET = \"https://hubeau.eaufrance.fr/api/v1/ecoulement/observations?format=json&code_departement=66&size=10000\""
   ]
  },
  {
   "cell_type": "code",
   "execution_count": 3,
   "metadata": {},
   "outputs": [],
   "source": [
    "logging.basicConfig(\n",
    "    format=\"%(asctime)s , %(levelname)-8s , %(message)s\",\n",
    "    filename=\"logging_hubeau.log\",\n",
    "    datefmt=\"%Y-%m-%d , %H:%M:%S\",\n",
    "    encoding=\"utf-8\",\n",
    "    level=logging.INFO,\n",
    ")"
   ]
  },
  {
   "cell_type": "code",
   "execution_count": 4,
   "metadata": {},
   "outputs": [],
   "source": [
    "def retrieve_data_json(url_to_get) -> dict:\n",
    "    \"\"\"Retrieve JSON datas from the URL\n",
    "\n",
    "    Parameters:\n",
    "    url_to_get: previously generated URL where to get datas\n",
    "\n",
    "    Returns:\n",
    "    data_json: dict\n",
    "    \"\"\"\n",
    "    website_response = requests.get(url_to_get)\n",
    "    if website_response.status_code == 200:\n",
    "        data_json = website_response.json()\n",
    "        logging.info(f\"Successful Request with status code:, {website_response.status_code}\")\n",
    "    # Process the JSON data as needed\n",
    "    else:\n",
    "        logging.error(f\"Request failed with status code:, {website_response.status_code}\")\n",
    "    return data_json"
   ]
  },
  {
   "cell_type": "code",
   "execution_count": 5,
   "metadata": {},
   "outputs": [],
   "source": [
    "def convert_to_dataframe(data_with_json):\n",
    "    \"\"\"Convert dict to dataframe with pandas\n",
    "\n",
    "    Parameters:\n",
    "    filtered_output: filtered JSON datas\n",
    "\n",
    "    Returns:\n",
    "    dataframe_database: DataFrame\n",
    "    \"\"\"\n",
    "    dataframe_database = pandas.DataFrame(data_with_json)\n",
    "    return dataframe_database"
   ]
  },
  {
   "cell_type": "code",
   "execution_count": 6,
   "metadata": {},
   "outputs": [],
   "source": [
    "def convert_web_json_to_dataframe():\n",
    "    initial_json = retrieve_data_json(URL_TO_GET)\n",
    "    filtered_json = [item for item in initial_json[\"data\"]]\n",
    "    json_to_dataframe = convert_to_dataframe(filtered_json)\n",
    "    return json_to_dataframe\n"
   ]
  },
  {
   "cell_type": "code",
   "execution_count": 7,
   "metadata": {},
   "outputs": [],
   "source": [
    "def main():\n",
    "    converted_json=convert_web_json_to_dataframe()\n",
    "    cleaned_json = converted_json.drop([\"uri_station\",\"libelle_departement\",\"code_region\",\"code_bassin\",\"libelle_bassin\",\"code_projection_station\",\"libelle_projection_station\",\"code_cours_eau\",\"libelle_cours_eau\",\"libelle_region\",\"libelle_reseau\",\"uri_cours_eau\",\"uri_reseau\",\"code_campagne\",\"code_reseau\",\"coordonnee_x_station\",\"coordonnee_y_station\",\"geometry\"],axis=1)\n",
    "    os.makedirs(f\"data/hubeau/\", exist_ok=True)\n",
    "    cleaned_json.to_csv(f\"./data/hubeau/ecoulement_output.csv\", index=False)"
   ]
  },
  {
   "cell_type": "code",
   "execution_count": 8,
   "metadata": {},
   "outputs": [
    {
     "name": "stderr",
     "output_type": "stream",
     "text": [
      "--- Logging error ---\n",
      "Traceback (most recent call last):\n",
      "  File \"c:\\Users\\Administrateur\\AppData\\Local\\Programs\\Python\\Python311\\Lib\\logging\\__init__.py\", line 1110, in emit\n",
      "    msg = self.format(record)\n",
      "          ^^^^^^^^^^^^^^^^^^^\n",
      "  File \"c:\\Users\\Administrateur\\AppData\\Local\\Programs\\Python\\Python311\\Lib\\logging\\__init__.py\", line 953, in format\n",
      "    return fmt.format(record)\n",
      "           ^^^^^^^^^^^^^^^^^^\n",
      "  File \"c:\\Users\\Administrateur\\AppData\\Local\\Programs\\Python\\Python311\\Lib\\logging\\__init__.py\", line 687, in format\n",
      "    record.message = record.getMessage()\n",
      "                     ^^^^^^^^^^^^^^^^^^^\n",
      "  File \"c:\\Users\\Administrateur\\AppData\\Local\\Programs\\Python\\Python311\\Lib\\logging\\__init__.py\", line 377, in getMessage\n",
      "    msg = msg % self.args\n",
      "          ~~~~^~~~~~~~~~~\n",
      "TypeError: not all arguments converted during string formatting\n",
      "Call stack:\n",
      "  File \"<frozen runpy>\", line 198, in _run_module_as_main\n",
      "  File \"<frozen runpy>\", line 88, in _run_code\n",
      "  File \"C:\\Users\\Administrateur\\AppData\\Roaming\\Python\\Python311\\site-packages\\ipykernel_launcher.py\", line 17, in <module>\n",
      "    app.launch_new_instance()\n",
      "  File \"C:\\Users\\Administrateur\\AppData\\Roaming\\Python\\Python311\\site-packages\\traitlets\\config\\application.py\", line 1043, in launch_instance\n",
      "    app.start()\n",
      "  File \"C:\\Users\\Administrateur\\AppData\\Roaming\\Python\\Python311\\site-packages\\ipykernel\\kernelapp.py\", line 725, in start\n",
      "    self.io_loop.start()\n",
      "  File \"C:\\Users\\Administrateur\\AppData\\Roaming\\Python\\Python311\\site-packages\\tornado\\platform\\asyncio.py\", line 195, in start\n",
      "    self.asyncio_loop.run_forever()\n",
      "  File \"c:\\Users\\Administrateur\\AppData\\Local\\Programs\\Python\\Python311\\Lib\\asyncio\\base_events.py\", line 607, in run_forever\n",
      "    self._run_once()\n",
      "  File \"c:\\Users\\Administrateur\\AppData\\Local\\Programs\\Python\\Python311\\Lib\\asyncio\\base_events.py\", line 1922, in _run_once\n",
      "    handle._run()\n",
      "  File \"c:\\Users\\Administrateur\\AppData\\Local\\Programs\\Python\\Python311\\Lib\\asyncio\\events.py\", line 80, in _run\n",
      "    self._context.run(self._callback, *self._args)\n",
      "  File \"C:\\Users\\Administrateur\\AppData\\Roaming\\Python\\Python311\\site-packages\\ipykernel\\kernelbase.py\", line 513, in dispatch_queue\n",
      "    await self.process_one()\n",
      "  File \"C:\\Users\\Administrateur\\AppData\\Roaming\\Python\\Python311\\site-packages\\ipykernel\\kernelbase.py\", line 502, in process_one\n",
      "    await dispatch(*args)\n",
      "  File \"C:\\Users\\Administrateur\\AppData\\Roaming\\Python\\Python311\\site-packages\\ipykernel\\kernelbase.py\", line 409, in dispatch_shell\n",
      "    await result\n",
      "  File \"C:\\Users\\Administrateur\\AppData\\Roaming\\Python\\Python311\\site-packages\\ipykernel\\kernelbase.py\", line 729, in execute_request\n",
      "    reply_content = await reply_content\n",
      "  File \"C:\\Users\\Administrateur\\AppData\\Roaming\\Python\\Python311\\site-packages\\ipykernel\\ipkernel.py\", line 422, in do_execute\n",
      "    res = shell.run_cell(\n",
      "  File \"C:\\Users\\Administrateur\\AppData\\Roaming\\Python\\Python311\\site-packages\\ipykernel\\zmqshell.py\", line 540, in run_cell\n",
      "    return super().run_cell(*args, **kwargs)\n",
      "  File \"C:\\Users\\Administrateur\\AppData\\Roaming\\Python\\Python311\\site-packages\\IPython\\core\\interactiveshell.py\", line 3009, in run_cell\n",
      "    result = self._run_cell(\n",
      "  File \"C:\\Users\\Administrateur\\AppData\\Roaming\\Python\\Python311\\site-packages\\IPython\\core\\interactiveshell.py\", line 3064, in _run_cell\n",
      "    result = runner(coro)\n",
      "  File \"C:\\Users\\Administrateur\\AppData\\Roaming\\Python\\Python311\\site-packages\\IPython\\core\\async_helpers.py\", line 129, in _pseudo_sync_runner\n",
      "    coro.send(None)\n",
      "  File \"C:\\Users\\Administrateur\\AppData\\Roaming\\Python\\Python311\\site-packages\\IPython\\core\\interactiveshell.py\", line 3269, in run_cell_async\n",
      "    has_raised = await self.run_ast_nodes(code_ast.body, cell_name,\n",
      "  File \"C:\\Users\\Administrateur\\AppData\\Roaming\\Python\\Python311\\site-packages\\IPython\\core\\interactiveshell.py\", line 3448, in run_ast_nodes\n",
      "    if await self.run_code(code, result, async_=asy):\n",
      "  File \"C:\\Users\\Administrateur\\AppData\\Roaming\\Python\\Python311\\site-packages\\IPython\\core\\interactiveshell.py\", line 3508, in run_code\n",
      "    exec(code_obj, self.user_global_ns, self.user_ns)\n",
      "  File \"C:\\Users\\Administrateur\\AppData\\Local\\Temp\\ipykernel_12392\\3832242952.py\", line 2, in <module>\n",
      "    main()\n",
      "  File \"C:\\Users\\Administrateur\\AppData\\Local\\Temp\\ipykernel_12392\\1973752341.py\", line 2, in main\n",
      "    converted_json=convert_web_json_to_dataframe()\n",
      "  File \"C:\\Users\\Administrateur\\AppData\\Local\\Temp\\ipykernel_12392\\1724368613.py\", line 2, in convert_web_json_to_dataframe\n",
      "    initial_json = retrieve_data_json(URL_TO_GET)\n",
      "  File \"C:\\Users\\Administrateur\\AppData\\Local\\Temp\\ipykernel_12392\\2807860478.py\", line 13, in retrieve_data_json\n",
      "    logging.error(f\"Successful Request with status code:\", {website_response.status_code})\n",
      "Message: 'Successful Request with status code:'\n",
      "Arguments: ({200},)\n"
     ]
    }
   ],
   "source": [
    "if __name__ == \"__main__\":\n",
    "    main()"
   ]
  }
 ],
 "metadata": {
  "kernelspec": {
   "display_name": ".venv",
   "language": "python",
   "name": "python3"
  },
  "language_info": {
   "codemirror_mode": {
    "name": "ipython",
    "version": 3
   },
   "file_extension": ".py",
   "mimetype": "text/x-python",
   "name": "python",
   "nbconvert_exporter": "python",
   "pygments_lexer": "ipython3",
   "version": "3.11.4"
  },
  "orig_nbformat": 4
 },
 "nbformat": 4,
 "nbformat_minor": 2
}
