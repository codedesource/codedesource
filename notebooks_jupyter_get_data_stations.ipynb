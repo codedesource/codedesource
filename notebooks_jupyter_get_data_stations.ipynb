{
 "cells": [
  {
   "attachments": {},
   "cell_type": "markdown",
   "id": "9de6ca64-42f9-4db5-bd99-4abdf9c149ec",
   "metadata": {},
   "source": [
    "# Collecte des données des stations concernées."
   ]
  },
  {
   "attachments": {},
   "cell_type": "markdown",
   "id": "8ae39a03-2d61-4247-8636-ec2cbe6f2d97",
   "metadata": {},
   "source": [
    "**Auteur :**  Steve Caron  \n",
    "**Date de création :** 2023/08/10  \n",
    "**Présentation :** Ce notebook permet de telecharger des données climatique depuis une liste de stations stockée dans un table BigQuerry et d'envoyer les données en format CSV dans un bucket GCP.\n",
    "\n",
    "\n",
    "**Prérequis :** \n",
    "- Configurer l'authentification pour gcloud\n",
    "  - installer et configurer gcloud CLI\n",
    "  - utiliser la commande ```gcloud auth login --update-adc``` dans l'IDE\n",
    "- Un bucket gcp pour le stockage de données. (BUCKET_NAME)\n",
    "- Une table BigQuerry contenant la liste des station (TABLE_ID)\n",
    "- Un token API infoclimat\n",
    "\n",
    "**Inputs :** \n",
    "\n",
    "**Params:**\n",
    "* BUCKET_NAME : nom du bucket GCP, DOIT être dans le même projet.\n",
    "* TABLE_IDE : ID de la table BigQuerry, DOIT être dans le même projet.\n",
    "* DEPARTEMENT: numéro du département étudié\n",
    "* NOM_RESEAU: nom du réseau de station étudié\n",
    "* ANNEE_DEBUT_RECHERCHE: année à partir de laquelle rechercher des donnés.\n",
    "* ANNEE_FIN_RECHERCHE: année à laquelle arreter de rechercher des données.\n",
    "* TOKEN : Token de l'api infoclimat. Vous pouvez obtenir un TOKEN depuis https://www.infoclimat.fr/opendata/"
   ]
  },
  {
   "cell_type": "code",
   "execution_count": 1,
   "id": "80d79063-ab50-403a-a80e-cd9b97f7ea54",
   "metadata": {},
   "outputs": [],
   "source": [
    "from google.cloud import bigquery, storage\n",
    "# from pyspark.sql.functions import col\n",
    "import requests\n",
    "import pandas\n",
    "import db_dtypes\n",
    "import csv\n",
    "import logging"
   ]
  },
  {
   "cell_type": "code",
   "execution_count": 2,
   "id": "826b8270-5807-42ab-9ae1-09358a55fce9",
   "metadata": {},
   "outputs": [],
   "source": [
    "BUCKET_NAME = \"datalake_infoclimat\"\n",
    "TABLE_ID = \"arcane-mission-393809.infoclimat.stations\"\n",
    "DEPARTEMENT = 66\n",
    "NOM_RESEAU = \"infoclimat.fr\"\n",
    "ANNEE_DEBUT_RECHERCHE = 2001\n",
    "ANNEE_FIN_RECHERCHE = 2023\n",
    "TOKEN = \"Emp8A4J9Pk587RT3M5SwlhQ4jk3VtHVt0Qlq4XritihpvshdM7BVg\"\n",
    "\n",
    "\n",
    "BUCKET_URI = f\"gs://{BUCKET_NAME}\"\n",
    "OUTPUT_PATH= f\"{BUCKET_URI}/output/\""
   ]
  },
  {
   "attachments": {},
   "cell_type": "markdown",
   "id": "8d6f8546",
   "metadata": {},
   "source": [
    "# Parametrage du logging"
   ]
  },
  {
   "cell_type": "code",
   "execution_count": 3,
   "id": "a3a8e085",
   "metadata": {},
   "outputs": [],
   "source": [
    "logging.basicConfig(filename='journal_extraction_donnees.log',\n",
    "                    encoding='utf-8',\n",
    "                    format='%(asctime)s - %(levelname)s - %(message)s',\n",
    "                    datefmt='%d/%m/%Y %H:%M:%S ',\n",
    "                    level=logging.INFO)"
   ]
  },
  {
   "attachments": {},
   "cell_type": "markdown",
   "id": "3f29e716-f6c0-4715-84b5-2a700f11fb62",
   "metadata": {},
   "source": [
    "# Récupération de nos données depuis BigQuery"
   ]
  },
  {
   "cell_type": "code",
   "execution_count": 4,
   "id": "8d283bc4",
   "metadata": {},
   "outputs": [
    {
     "data": {
      "text/html": [
       "<div>\n",
       "<style scoped>\n",
       "    .dataframe tbody tr th:only-of-type {\n",
       "        vertical-align: middle;\n",
       "    }\n",
       "\n",
       "    .dataframe tbody tr th {\n",
       "        vertical-align: top;\n",
       "    }\n",
       "\n",
       "    .dataframe thead th {\n",
       "        text-align: right;\n",
       "    }\n",
       "</style>\n",
       "<table border=\"1\" class=\"dataframe\">\n",
       "  <thead>\n",
       "    <tr style=\"text-align: right;\">\n",
       "      <th></th>\n",
       "      <th>nom_station</th>\n",
       "      <th>code_station</th>\n",
       "      <th>departement</th>\n",
       "      <th>pays</th>\n",
       "      <th>coordonnees_x</th>\n",
       "      <th>coordonnees_y</th>\n",
       "      <th>source</th>\n",
       "    </tr>\n",
       "  </thead>\n",
       "  <tbody>\n",
       "    <tr>\n",
       "      <th>0</th>\n",
       "      <td>Embrun</td>\n",
       "      <td>07591</td>\n",
       "      <td>05</td>\n",
       "      <td>FR</td>\n",
       "      <td>6.503</td>\n",
       "      <td>44.567000</td>\n",
       "      <td>METEO-FRANCE</td>\n",
       "    </tr>\n",
       "    <tr>\n",
       "      <th>1</th>\n",
       "      <td>Nice - Côte d'Azur</td>\n",
       "      <td>07690</td>\n",
       "      <td>06</td>\n",
       "      <td>FR</td>\n",
       "      <td>7.200</td>\n",
       "      <td>43.653000</td>\n",
       "      <td>METEO-FRANCE</td>\n",
       "    </tr>\n",
       "    <tr>\n",
       "      <th>2</th>\n",
       "      <td>Saint-Girons - Antichan</td>\n",
       "      <td>07627</td>\n",
       "      <td>09</td>\n",
       "      <td>FR</td>\n",
       "      <td>1.107</td>\n",
       "      <td>43.001999</td>\n",
       "      <td>METEO-FRANCE</td>\n",
       "    </tr>\n",
       "    <tr>\n",
       "      <th>3</th>\n",
       "      <td>Troyes-Barberey</td>\n",
       "      <td>07168</td>\n",
       "      <td>10</td>\n",
       "      <td>FR</td>\n",
       "      <td>4.023</td>\n",
       "      <td>48.327999</td>\n",
       "      <td>METEO-FRANCE</td>\n",
       "    </tr>\n",
       "    <tr>\n",
       "      <th>4</th>\n",
       "      <td>Millau - Soulobres</td>\n",
       "      <td>07558</td>\n",
       "      <td>12</td>\n",
       "      <td>FR</td>\n",
       "      <td>3.020</td>\n",
       "      <td>44.118000</td>\n",
       "      <td>METEO-FRANCE</td>\n",
       "    </tr>\n",
       "  </tbody>\n",
       "</table>\n",
       "</div>"
      ],
      "text/plain": [
       "               nom_station code_station departement pays  coordonnees_x  \\\n",
       "0                   Embrun        07591          05   FR          6.503   \n",
       "1       Nice - Côte d'Azur        07690          06   FR          7.200   \n",
       "2  Saint-Girons - Antichan        07627          09   FR          1.107   \n",
       "3          Troyes-Barberey        07168          10   FR          4.023   \n",
       "4       Millau - Soulobres        07558          12   FR          3.020   \n",
       "\n",
       "   coordonnees_y        source  \n",
       "0      44.567000  METEO-FRANCE  \n",
       "1      43.653000  METEO-FRANCE  \n",
       "2      43.001999  METEO-FRANCE  \n",
       "3      48.327999  METEO-FRANCE  \n",
       "4      44.118000  METEO-FRANCE  "
      ]
     },
     "execution_count": 4,
     "metadata": {},
     "output_type": "execute_result"
    }
   ],
   "source": [
    "client = bigquery.Client()\n",
    "\n",
    "sql = \"\"\"\n",
    "    SELECT *\n",
    "    FROM `{}`\n",
    "\"\"\".format(TABLE_ID)\n",
    "\n",
    "toutes_stations = client.query(sql).to_dataframe()\n",
    "toutes_stations.head(5)\n"
   ]
  },
  {
   "attachments": {},
   "cell_type": "markdown",
   "id": "4321e887-7b92-4d78-be13-b48b5765c17e",
   "metadata": {},
   "source": [
    "# Récupération des stations du 66 et du réseau infoclimat"
   ]
  },
  {
   "attachments": {},
   "cell_type": "markdown",
   "id": "2eca5e89",
   "metadata": {},
   "source": [
    "Avec Pandas: "
   ]
  },
  {
   "cell_type": "code",
   "execution_count": 5,
   "id": "2843f3eb",
   "metadata": {},
   "outputs": [
    {
     "data": {
      "text/html": [
       "<div>\n",
       "<style scoped>\n",
       "    .dataframe tbody tr th:only-of-type {\n",
       "        vertical-align: middle;\n",
       "    }\n",
       "\n",
       "    .dataframe tbody tr th {\n",
       "        vertical-align: top;\n",
       "    }\n",
       "\n",
       "    .dataframe thead th {\n",
       "        text-align: right;\n",
       "    }\n",
       "</style>\n",
       "<table border=\"1\" class=\"dataframe\">\n",
       "  <thead>\n",
       "    <tr style=\"text-align: right;\">\n",
       "      <th></th>\n",
       "      <th>nom_station</th>\n",
       "      <th>code_station</th>\n",
       "      <th>departement</th>\n",
       "      <th>pays</th>\n",
       "      <th>coordonnees_x</th>\n",
       "      <th>coordonnees_y</th>\n",
       "      <th>source</th>\n",
       "    </tr>\n",
       "  </thead>\n",
       "  <tbody>\n",
       "    <tr>\n",
       "      <th>611</th>\n",
       "      <td>Perpignan - Moulin à Vent</td>\n",
       "      <td>000Q3</td>\n",
       "      <td>66</td>\n",
       "      <td>FR</td>\n",
       "      <td>2.895410</td>\n",
       "      <td>42.697640</td>\n",
       "      <td>infoclimat.fr</td>\n",
       "    </tr>\n",
       "    <tr>\n",
       "      <th>612</th>\n",
       "      <td>Cabestany</td>\n",
       "      <td>000BS</td>\n",
       "      <td>66</td>\n",
       "      <td>FR</td>\n",
       "      <td>2.941220</td>\n",
       "      <td>42.681320</td>\n",
       "      <td>infoclimat.fr</td>\n",
       "    </tr>\n",
       "    <tr>\n",
       "      <th>613</th>\n",
       "      <td>Osséja</td>\n",
       "      <td>000EN</td>\n",
       "      <td>66</td>\n",
       "      <td>FR</td>\n",
       "      <td>1.981920</td>\n",
       "      <td>42.413830</td>\n",
       "      <td>infoclimat.fr</td>\n",
       "    </tr>\n",
       "    <tr>\n",
       "      <th>614</th>\n",
       "      <td>[MAE] Lycée Pablo Picasso - PERPIGNAN</td>\n",
       "      <td>ME040</td>\n",
       "      <td>66</td>\n",
       "      <td>FR</td>\n",
       "      <td>2.926642</td>\n",
       "      <td>42.696989</td>\n",
       "      <td>infoclimat.fr</td>\n",
       "    </tr>\n",
       "    <tr>\n",
       "      <th>615</th>\n",
       "      <td>[MAE] Lycée Agricole de Théza - Théza</td>\n",
       "      <td>ME121</td>\n",
       "      <td>66</td>\n",
       "      <td>FR</td>\n",
       "      <td>2.938229</td>\n",
       "      <td>42.645670</td>\n",
       "      <td>infoclimat.fr</td>\n",
       "    </tr>\n",
       "    <tr>\n",
       "      <th>616</th>\n",
       "      <td>Ste-Colombe-de-la-Commanderie</td>\n",
       "      <td>000QW</td>\n",
       "      <td>66</td>\n",
       "      <td>FR</td>\n",
       "      <td>2.724936</td>\n",
       "      <td>42.617677</td>\n",
       "      <td>infoclimat.fr</td>\n",
       "    </tr>\n",
       "    <tr>\n",
       "      <th>617</th>\n",
       "      <td>Font-Romeu-Odeillo-Via</td>\n",
       "      <td>000RX</td>\n",
       "      <td>66</td>\n",
       "      <td>FR</td>\n",
       "      <td>2.059862</td>\n",
       "      <td>42.515899</td>\n",
       "      <td>infoclimat.fr</td>\n",
       "    </tr>\n",
       "    <tr>\n",
       "      <th>618</th>\n",
       "      <td>Calce</td>\n",
       "      <td>000TB</td>\n",
       "      <td>66</td>\n",
       "      <td>FR</td>\n",
       "      <td>2.753870</td>\n",
       "      <td>42.758160</td>\n",
       "      <td>infoclimat.fr</td>\n",
       "    </tr>\n",
       "  </tbody>\n",
       "</table>\n",
       "</div>"
      ],
      "text/plain": [
       "                               nom_station code_station departement pays  \\\n",
       "611              Perpignan - Moulin à Vent        000Q3          66   FR   \n",
       "612                              Cabestany        000BS          66   FR   \n",
       "613                                 Osséja        000EN          66   FR   \n",
       "614  [MAE] Lycée Pablo Picasso - PERPIGNAN        ME040          66   FR   \n",
       "615  [MAE] Lycée Agricole de Théza - Théza        ME121          66   FR   \n",
       "616          Ste-Colombe-de-la-Commanderie        000QW          66   FR   \n",
       "617                 Font-Romeu-Odeillo-Via        000RX          66   FR   \n",
       "618                                  Calce        000TB          66   FR   \n",
       "\n",
       "     coordonnees_x  coordonnees_y         source  \n",
       "611       2.895410      42.697640  infoclimat.fr  \n",
       "612       2.941220      42.681320  infoclimat.fr  \n",
       "613       1.981920      42.413830  infoclimat.fr  \n",
       "614       2.926642      42.696989  infoclimat.fr  \n",
       "615       2.938229      42.645670  infoclimat.fr  \n",
       "616       2.724936      42.617677  infoclimat.fr  \n",
       "617       2.059862      42.515899  infoclimat.fr  \n",
       "618       2.753870      42.758160  infoclimat.fr  "
      ]
     },
     "execution_count": 5,
     "metadata": {},
     "output_type": "execute_result"
    }
   ],
   "source": [
    "stations = toutes_stations[(toutes_stations[\"source\"] == NOM_RESEAU) &\n",
    "                            (toutes_stations[\"pays\"] == \"FR\") &\n",
    "                            (toutes_stations[\"departement\"] == str(DEPARTEMENT))]\n",
    "\n",
    "stations.head(15)"
   ]
  },
  {
   "cell_type": "code",
   "execution_count": 6,
   "id": "fb495cfa",
   "metadata": {},
   "outputs": [
    {
     "name": "stdout",
     "output_type": "stream",
     "text": [
      "['000Q3', '000BS', '000EN', 'ME040', 'ME121', '000QW', '000RX', '000TB']\n"
     ]
    }
   ],
   "source": [
    "liste_stations=stations[\"nom_station\"].tolist()\n",
    "liste_codes = stations[\"code_station\"].tolist()\n",
    "print(liste_codes)"
   ]
  },
  {
   "attachments": {},
   "cell_type": "markdown",
   "id": "8db51385",
   "metadata": {},
   "source": [
    "# Requete des données"
   ]
  },
  {
   "cell_type": "code",
   "execution_count": 7,
   "id": "dc59df73",
   "metadata": {},
   "outputs": [],
   "source": [
    "def requete(url):\n",
    "\n",
    "    reponse=requests.get(url)\n",
    "\n",
    "    return reponse"
   ]
  },
  {
   "attachments": {},
   "cell_type": "markdown",
   "id": "b9dd2ac7",
   "metadata": {},
   "source": [
    "# Séparation du contenu de la réponse par ligne"
   ]
  },
  {
   "cell_type": "code",
   "execution_count": 8,
   "id": "e4104ad6",
   "metadata": {},
   "outputs": [],
   "source": [
    "def splitlines (reponse):\n",
    "\n",
    "    #Je dédode mon contenue en UTF8\n",
    "    contenu = reponse.content.decode('UTF-8')\n",
    "    #Je split les ligne de mon contenue\n",
    "    contenu_lignes = contenu.splitlines(True)\n",
    "    nombre_lignes_reponse = (len(contenu_lignes))\n",
    "\n",
    "    return contenu_lignes, nombre_lignes_reponse\n"
   ]
  },
  {
   "attachments": {},
   "cell_type": "markdown",
   "id": "b04df585",
   "metadata": {},
   "source": [
    "# Nettoyage des données"
   ]
  },
  {
   "attachments": {},
   "cell_type": "markdown",
   "id": "2c4dc62d",
   "metadata": {},
   "source": [
    "La requete renvoie un texte, dons les 6 premières ligne ne contiennent pas de données la 5 ème lignes contient elle le header du csv. \n",
    "\n",
    "On cherche donc a récupérer la ligne du header (indice 4) ansi que les lignes contenant les données (indice 6 et plus)"
   ]
  },
  {
   "cell_type": "code",
   "execution_count": 9,
   "id": "77bbf75f",
   "metadata": {},
   "outputs": [],
   "source": [
    "def nettoyage (contenu_sous_forme_ligne):\n",
    "    \n",
    "    # Je supprime les lignes qui ne m'interesse pas\n",
    "    del contenu_sous_forme_ligne[0:4]\n",
    "    del contenu_sous_forme_ligne[1]\n",
    "\n",
    "    return contenu_sous_forme_ligne\n"
   ]
  },
  {
   "attachments": {},
   "cell_type": "markdown",
   "id": "0d8be3d4",
   "metadata": {},
   "source": [
    "# Ecriture du fichier en CSV."
   ]
  },
  {
   "cell_type": "code",
   "execution_count": 10,
   "id": "5e63b993",
   "metadata": {},
   "outputs": [],
   "source": [
    "def ecriture_en_csv (contenu_sous_forme_ligne_nettoye, nom_fichier):\n",
    "    \n",
    "    # Je lis mon fichier avec un csv redear en précisant le délimiteur\n",
    "    reader = csv.reader(contenu_sous_forme_ligne_nettoye, delimiter=';')\n",
    "    # J'ouvre le fichier dans lequel je vais sauvegardes mes données\n",
    "    with open(\"./data_brut/\"+nom_fichier,'w', newline='') as fichier:\n",
    "        # J'instancie mon objet writer pour écrire un fichier CSV\n",
    "        writer = csv.writer(fichier,delimiter=',')\n",
    "        # J'écris mon fichier ligne par ligne\n",
    "        for line in reader:\n",
    "            writer.writerow(line)\n"
   ]
  },
  {
   "attachments": {},
   "cell_type": "markdown",
   "id": "454dd439",
   "metadata": {},
   "source": [
    "# Ecriture dans un Bucket"
   ]
  },
  {
   "cell_type": "code",
   "execution_count": 11,
   "id": "f02dace6",
   "metadata": {},
   "outputs": [],
   "source": [
    "def upload_fichier_dans_bucket(nom_bucket, nom_fichier_source):\n",
    "    \"\"\"Cette fonction prend un fichier enregistrer dans le dossier data_brut et le télécharge dans un bucket GCP\"\"\"\n",
    "\n",
    "    # J'instancie un client Storage\n",
    "    storage_client = storage.Client()\n",
    "    # Je renseigne le nom de mon Bucket\n",
    "    bucket = storage_client.bucket(nom_bucket)\n",
    "    # Je creer un blob avec le chemin qu'aura le fichier dans mon bucket\n",
    "    blob = bucket.blob(f\"output/{nom_fichier_source}\")\n",
    "    # J'enregistre le chemin de mon fichier source dans une variable\n",
    "    chemin_fichier = f\"./data_brut/{nom_fichier_source}\"\n",
    "\n",
    "    # J'ouvre mon fichier pour le lire en binaire\n",
    "    with open (chemin_fichier, \"rb\") as fichier:\n",
    "        #J'upload le contenu de mon fichier dans mon blob\n",
    "        blob.upload_from_file(fichier)\n",
    "\n",
    "    print(\n",
    "        f\"Le fichier {nom_fichier_source} a été upload dans le bucket {nom_bucket}.\"\n",
    "    )"
   ]
  },
  {
   "attachments": {},
   "cell_type": "markdown",
   "id": "d4345ec5",
   "metadata": {},
   "source": [
    "# Ecriture de la main fonction"
   ]
  },
  {
   "cell_type": "code",
   "execution_count": 12,
   "id": "d429b096",
   "metadata": {},
   "outputs": [],
   "source": [
    "def main(code,annee):\n",
    "    \n",
    "    url=f\"https://www.infoclimat.fr/opendata/?method=get&format=csv&stations[]={code}&start={annee}-01-01&end={annee}-12-31&token=\"+TOKEN\n",
    "    nom_fichier = f\"météo_{code}_{annee}.csv\"\n",
    "\n",
    "    \n",
    "    reponse = requete(url)\n",
    "\n",
    "    if reponse.status_code == 200:\n",
    "        \n",
    "        contenu_lignes, nombre_lignes_de_la_reponse = splitlines(reponse)\n",
    "\n",
    "        if nombre_lignes_de_la_reponse > 6:\n",
    "\n",
    "            contenu_nettoye = nettoyage(contenu_lignes)\n",
    "            ecriture_en_csv(contenu_nettoye, nom_fichier)\n",
    "            upload_fichier_dans_bucket(BUCKET_NAME,nom_fichier)\n",
    "            logging.info(\"Données de la station %s pour l'année %s enregistrées avec succès\", code, annee)\n",
    "        \n",
    "        else:\n",
    "\n",
    "            print(f\"La station {code} n'a pas enregistré de données pour l'année {annee}\")\n",
    "            logging.warning(\"Données de la station %s pour l'année %s pas enregistées car pas de données\", code, annee)\n",
    "\n",
    "    else:\n",
    "\n",
    "        print(\"Station {} Année {} Code:{}, la connexion api n'est pas établie\".format(code, annee, reponse.status_code))\n",
    "        logging.error(\"Données de la station %s pour l'année %s pas enregistées car code erreur %s\", code, annee, reponse.status_code )    "
   ]
  },
  {
   "attachments": {},
   "cell_type": "markdown",
   "id": "da6f9660",
   "metadata": {},
   "source": [
    "# Execution de la fonction"
   ]
  },
  {
   "cell_type": "code",
   "execution_count": 13,
   "id": "3d9b186d",
   "metadata": {},
   "outputs": [
    {
     "name": "stdout",
     "output_type": "stream",
     "text": [
      "Station 000Q3 Année 2018 Code:504, la connexion api n'est pas établie\n",
      "Station 000Q3 Année 2019 Code:504, la connexion api n'est pas établie\n",
      "Station 000Q3 Année 2020 Code:504, la connexion api n'est pas établie\n",
      "Station 000Q3 Année 2021 Code:504, la connexion api n'est pas établie\n",
      "Le fichier météo_000Q3_2022.csv a été upload dans le bucket datalake_infoclimat.\n",
      "Le fichier météo_000Q3_2023.csv a été upload dans le bucket datalake_infoclimat.\n",
      "Station 000BS Année 2018 Code:504, la connexion api n'est pas établie\n",
      "Station 000BS Année 2019 Code:504, la connexion api n'est pas établie\n",
      "Station 000BS Année 2020 Code:504, la connexion api n'est pas établie\n",
      "Station 000BS Année 2021 Code:504, la connexion api n'est pas établie\n",
      "Le fichier météo_000BS_2022.csv a été upload dans le bucket datalake_infoclimat.\n",
      "Le fichier météo_000BS_2023.csv a été upload dans le bucket datalake_infoclimat.\n",
      "Station 000EN Année 2018 Code:504, la connexion api n'est pas établie\n",
      "Station 000EN Année 2019 Code:504, la connexion api n'est pas établie\n",
      "Station 000EN Année 2020 Code:504, la connexion api n'est pas établie\n",
      "Station 000EN Année 2021 Code:504, la connexion api n'est pas établie\n",
      "Le fichier météo_000EN_2022.csv a été upload dans le bucket datalake_infoclimat.\n",
      "Le fichier météo_000EN_2023.csv a été upload dans le bucket datalake_infoclimat.\n",
      "La station ME040 n'a pas enregistré de données pour l'année 2018\n",
      "La station ME040 n'a pas enregistré de données pour l'année 2019\n",
      "La station ME040 n'a pas enregistré de données pour l'année 2020\n",
      "La station ME040 n'a pas enregistré de données pour l'année 2021\n",
      "La station ME040 n'a pas enregistré de données pour l'année 2022\n",
      "La station ME040 n'a pas enregistré de données pour l'année 2023\n",
      "Station ME121 Année 2018 Code:504, la connexion api n'est pas établie\n",
      "Station ME121 Année 2019 Code:504, la connexion api n'est pas établie\n",
      "Station ME121 Année 2020 Code:504, la connexion api n'est pas établie\n",
      "Station ME121 Année 2021 Code:504, la connexion api n'est pas établie\n",
      "Le fichier météo_ME121_2022.csv a été upload dans le bucket datalake_infoclimat.\n",
      "Le fichier météo_ME121_2023.csv a été upload dans le bucket datalake_infoclimat.\n",
      "La station 000QW n'a pas enregistré de données pour l'année 2018\n",
      "La station 000QW n'a pas enregistré de données pour l'année 2019\n",
      "Station 000QW Année 2020 Code:504, la connexion api n'est pas établie\n",
      "Station 000QW Année 2021 Code:504, la connexion api n'est pas établie\n",
      "Le fichier météo_000QW_2022.csv a été upload dans le bucket datalake_infoclimat.\n",
      "Le fichier météo_000QW_2023.csv a été upload dans le bucket datalake_infoclimat.\n",
      "La station 000RX n'a pas enregistré de données pour l'année 2018\n",
      "La station 000RX n'a pas enregistré de données pour l'année 2019\n",
      "Station 000RX Année 2020 Code:504, la connexion api n'est pas établie\n",
      "Station 000RX Année 2021 Code:504, la connexion api n'est pas établie\n",
      "Le fichier météo_000RX_2022.csv a été upload dans le bucket datalake_infoclimat.\n",
      "Le fichier météo_000RX_2023.csv a été upload dans le bucket datalake_infoclimat.\n",
      "La station 000TB n'a pas enregistré de données pour l'année 2018\n",
      "La station 000TB n'a pas enregistré de données pour l'année 2019\n",
      "Station 000TB Année 2020 Code:504, la connexion api n'est pas établie\n",
      "Station 000TB Année 2021 Code:504, la connexion api n'est pas établie\n",
      "Le fichier météo_000TB_2022.csv a été upload dans le bucket datalake_infoclimat.\n",
      "Le fichier météo_000TB_2023.csv a été upload dans le bucket datalake_infoclimat.\n"
     ]
    }
   ],
   "source": [
    "for code in liste_codes:\n",
    "\n",
    "    for annee in range(2018,ANNEE_FIN_RECHERCHE+1):\n",
    "        main(code,annee)"
   ]
  }
 ],
 "metadata": {
  "kernelspec": {
   "display_name": "venv",
   "language": "python",
   "name": "python3"
  },
  "language_info": {
   "codemirror_mode": {
    "name": "ipython",
    "version": 3
   },
   "file_extension": ".py",
   "mimetype": "text/x-python",
   "name": "python",
   "nbconvert_exporter": "python",
   "pygments_lexer": "ipython3",
   "version": "3.11.3"
  }
 },
 "nbformat": 4,
 "nbformat_minor": 5
}
