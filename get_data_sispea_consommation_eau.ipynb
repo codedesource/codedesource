{
 "cells": [
  {
   "cell_type": "code",
   "execution_count": 1,
   "id": "a11f7c36-c66b-4d6c-8677-60a0996536c4",
   "metadata": {
    "tags": []
   },
   "outputs": [],
   "source": [
    "#Importer les bibliothèques nécessaires (pandas et pyspark) dans le script pyspark\n",
    "import pandas as pd"
   ]
  },
  {
   "cell_type": "code",
   "execution_count": 2,
   "id": "73e8e13c-cae2-4c95-9ab1-4677efe47db8",
   "metadata": {
    "tags": []
   },
   "outputs": [],
   "source": [
    "import openpyxl"
   ]
  },
  {
   "cell_type": "code",
   "execution_count": 3,
   "id": "3df454ae-dc8d-4b85-a7a9-667034f2c835",
   "metadata": {
    "tags": []
   },
   "outputs": [],
   "source": [
    "import pyspark.sql\n",
    "from pyspark.sql import *"
   ]
  },
  {
   "cell_type": "code",
   "execution_count": 19,
   "id": "eff94251-05b8-4964-ab56-5eb95f98114d",
   "metadata": {
    "tags": []
   },
   "outputs": [],
   "source": [
    "import requests"
   ]
  },
  {
   "cell_type": "code",
   "execution_count": 25,
   "id": "4601cc9f-7fb3-4e12-b650-2cb5dea85139",
   "metadata": {
    "tags": []
   },
   "outputs": [],
   "source": [
    "from pyspark import SparkFiles"
   ]
  },
  {
   "cell_type": "code",
   "execution_count": 31,
   "id": "94c4127a-6976-427d-a920-fd8eaae21e22",
   "metadata": {
    "tags": []
   },
   "outputs": [],
   "source": [
    "import zipfile\n",
    "import io\n",
    "import os"
   ]
  },
  {
   "cell_type": "code",
   "execution_count": 4,
   "id": "77d36493-2ea2-4e5e-87de-b928a1f70219",
   "metadata": {
    "tags": []
   },
   "outputs": [],
   "source": [
    "#Création de la session spark \n",
    "spark = SparkSession.builder.appName(\"Excel to DataFrame\").getOrCreate() "
   ]
  },
  {
   "cell_type": "code",
   "execution_count": 52,
   "id": "cdd065bf-d67c-49dd-a3ea-abdfc240e6b3",
   "metadata": {
    "tags": []
   },
   "outputs": [],
   "source": [
    "def TelechargementData():\n",
    "\n",
    "    url = \"https://services.eaufrance.fr/documents/openData/SISPEA_FR_\"+str(annee)+\"_AEP.zip\"\n",
    "\n",
    "    reponse = requests.get(url)\n",
    "\n",
    "    content = reponse.content\n",
    "\n",
    "    # Création d'un objet ZipFile à partir du contenu ZIP téléchargé\n",
    "    zip_file = zipfile.ZipFile(io.BytesIO(content))\n",
    "\n",
    "    # Création du répertoire de destination s'il n'existe pas\n",
    "    os.makedirs(\"Data\", exist_ok=True)\n",
    "\n",
    "    # Extraction des fichiers du fichier ZIP et enregistrement dans le répertoire de destination\n",
    "    zip_file.extractall(\"Data\")\n",
    "    \n",
    "    # Fermeture du fichier ZIP\n",
    "    zip_file.close()"
   ]
  },
  {
   "cell_type": "code",
   "execution_count": 16,
   "id": "b9da2b25-4b47-4126-b75d-ff002a0b839b",
   "metadata": {
    "tags": []
   },
   "outputs": [],
   "source": [
    "def lecturePandas(annee):\n",
    "    ''' Cette fonction permet de lire un fichier excel et de le convertir en dataFrame Pandas'''\n",
    "\n",
    "    #Pour lire le fichier excel on utilise Pandas \n",
    "    #On donne le chemin du fichier excel\n",
    "    excel_file_path = \"./Data/SISPEA_FR_\"+str(annee)+\"_AEP.xls\"\n",
    "    #On donne le nom de l'onglet\n",
    "    sheet_name = \"Entités de gestion\"\n",
    "    #Lecture du fichier excel avec pandas \n",
    "    pandas_df = pd.read_excel(excel_file_path, sheet_name=sheet_name)\n",
    "\n",
    "    return pandas_df"
   ]
  },
  {
   "cell_type": "markdown",
   "id": "cea0d18e-2389-445c-9871-4da473fecec4",
   "metadata": {},
   "source": [
    "Je supprime la colonne fin de contrat, car elle creer un conflit qui ne me permet pas de convertir mon dataframe en table spark."
   ]
  },
  {
   "cell_type": "code",
   "execution_count": 6,
   "id": "f9b23b6b-eca4-461b-be49-1389a088e77d",
   "metadata": {},
   "outputs": [],
   "source": [
    "def supprimerLaColonneDateFin(pandas_df):\n",
    "    '''Cette fonction supprime la colonne dateFinDeContrat dans mon dataframe Pandas'''\n",
    "    pandas_df.drop([\"Date de fin de contrat\"], axis=1, inplace=True)\n",
    "\n",
    "    return pandas_df"
   ]
  },
  {
   "cell_type": "code",
   "execution_count": 7,
   "id": "6047f835-12b1-4e09-b02d-99a70c3f777c",
   "metadata": {
    "tags": []
   },
   "outputs": [],
   "source": [
    "def convertirPandasEnSpark(pandas_df):\n",
    "    '''Cette fonction converti la table pandas en table spark'''\n",
    "    #Conversion du DataFrame Pandas en DataFrame Spark\n",
    "    table = spark.createDataFrame(pandas_df)\n",
    "    \n",
    "    return table"
   ]
  },
  {
   "cell_type": "code",
   "execution_count": 8,
   "id": "5cc5c6d8-2f8b-4ef2-b569-42a0134f1818",
   "metadata": {},
   "outputs": [],
   "source": [
    "def choixColonnes(table_spark):\n",
    "    ''' Cette fonction selectionne les colonnes N° SIREN,VP.224,VP.225,VP.226,VP.227,VP.228,VP.229,VP.231,VP.232,VP.234 '''\n",
    "    \n",
    "    table_bonne_colonne=table_spark.select(\"N° SIREN\",\"`VP.224`\",\"`VP.225`\", \"`VP.226`\", \"`VP.227`\",\"`VP.228`\",\"`VP.229`\",\"`VP.231`\", \"`VP.232`\",\"`VP.234`\")\n",
    "\n",
    "    return table_bonne_colonne"
   ]
  },
  {
   "cell_type": "markdown",
   "id": "2964776f-095f-4f56-83eb-554373d1b4c7",
   "metadata": {},
   "source": [
    "Je renomme les colonnes de mon tableau"
   ]
  },
  {
   "cell_type": "code",
   "execution_count": 9,
   "id": "afa7ffbd-e50f-4750-93aa-22a537524d5a",
   "metadata": {},
   "outputs": [],
   "source": [
    "def renommageColonnes(table_spark):\n",
    "    ''' Cette fonction renomme les colonnes de la table '''\n",
    "\n",
    "    table_renamed = table_spark.withColumnRenamed(\"VP.224\", \"Indice linéaire de consommation\")\\\n",
    "        .withColumnRenamed(\"VP.225\", \"Rendement sur les 3 années précédentes\")\\\n",
    "        .withColumnRenamed(\"VP.226\", \"Rendement seuil par défaut\")\\\n",
    "        .withColumnRenamed(\"VP.227\", \"Rendement seuil en ZRE\")\\\n",
    "        .withColumnRenamed(\"VP.228\", \"Densité linéaire d'abonnés\")\\\n",
    "        .withColumnRenamed(\"VP.229\", \"Ratio habitants par abonnés\")\\\n",
    "        .withColumnRenamed(\"VP.231\", \"Consommation moyenne par abonné\")\\\n",
    "        .withColumnRenamed(\"VP.232\", \"Volumes consommés comptabilisés\")\\\n",
    "        .withColumnRenamed(\"VP.234\", \"Volume produit + Volume importé\")\n",
    "    return table_renamed"
   ]
  },
  {
   "cell_type": "markdown",
   "id": "e2435050-78cd-4009-9e7c-1bf9f35df7a7",
   "metadata": {
    "tags": []
   },
   "source": [
    "Je sauvegarde mon tableau dans un fichier csv"
   ]
  },
  {
   "cell_type": "code",
   "execution_count": 45,
   "id": "7f4ebd60-ed9a-47a1-a7b1-a55719a7e0da",
   "metadata": {
    "tags": []
   },
   "outputs": [],
   "source": [
    "def transformationCSV(table_spark):\n",
    "    ''' Cette fonction enregistre une table spark au format CSC '''\n",
    "    table_spark.write.csv(\"consommation_eau.csv\", header=True, mode=\"append\")"
   ]
  },
  {
   "cell_type": "code",
   "execution_count": 54,
   "id": "07678014-bf2c-4974-aeb7-44e5b8c60a48",
   "metadata": {
    "tags": []
   },
   "outputs": [],
   "source": [
    "def main(annee):\n",
    "    \n",
    "    TelechargementData()\n",
    "    \n",
    "    pandas_dataframe = lecturePandas(annee)\n",
    "\n",
    "    pandas_dataframe_propre = supprimerLaColonneDateFin(pandas_dataframe)\n",
    "\n",
    "    spark_dataframe = convertirPandasEnSpark(pandas_dataframe_propre)\n",
    "\n",
    "    df_bonnes_colonnes = choixColonnes(spark_dataframe)\n",
    "\n",
    "    df_bons_noms = renommageColonnes(df_bonnes_colonnes)\n",
    "\n",
    "    transformationCSV(df_bons_noms)"
   ]
  },
  {
   "cell_type": "code",
   "execution_count": 51,
   "id": "262db5ff-2d8a-4606-9e3a-a7feb30343cd",
   "metadata": {
    "tags": []
   },
   "outputs": [],
   "source": [
    "# Selection des années à traiter.\n",
    "annee_min = 2008\n",
    "anne_max = 2021"
   ]
  },
  {
   "cell_type": "code",
   "execution_count": 55,
   "id": "ab7052ee-5f4f-4b00-b9c5-ebd7b5f3e9e7",
   "metadata": {
    "tags": []
   },
   "outputs": [],
   "source": [
    "#Execution du programme\n",
    "\n",
    "for annee in range(annee_min,anne_max+1):\n",
    "    main(annee)"
   ]
  }
 ],
 "metadata": {
  "kernelspec": {
   "display_name": "Python 3 (ipykernel)",
   "language": "python",
   "name": "python3"
  },
  "language_info": {
   "codemirror_mode": {
    "name": "ipython",
    "version": 3
   },
   "file_extension": ".py",
   "mimetype": "text/x-python",
   "name": "python",
   "nbconvert_exporter": "python",
   "pygments_lexer": "ipython3",
   "version": "3.10.11"
  }
 },
 "nbformat": 4,
 "nbformat_minor": 5
}
